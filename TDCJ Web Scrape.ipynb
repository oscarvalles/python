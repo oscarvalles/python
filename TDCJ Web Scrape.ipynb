{
 "cells": [
  {
   "cell_type": "markdown",
   "metadata": {},
   "source": [
    "### TDCJ Web Scraper"
   ]
  },
  {
   "cell_type": "code",
   "execution_count": 220,
   "metadata": {},
   "outputs": [],
   "source": [
    "# import libraries\n",
    "from bs4 import BeautifulSoup\n",
    "import urllib.request as url, time, pymysql.cursors"
   ]
  },
  {
   "cell_type": "markdown",
   "metadata": {},
   "source": [
    "<b>Set connection to database</b>"
   ]
  },
  {
   "cell_type": "code",
   "execution_count": 221,
   "metadata": {},
   "outputs": [],
   "source": [
    "# Connect to the database\n",
    "connection = pymysql.connect(host='host.com',\n",
    "                             user='username',\n",
    "                             password='password',\n",
    "                             db='database_name_here',\n",
    "                             charset='utf8mb4',\n",
    "                             cursorclass=pymysql.cursors.DictCursor)"
   ]
  },
  {
   "cell_type": "markdown",
   "metadata": {},
   "source": [
    "<b>Page Scrape Mapping to Database</b>"
   ]
  },
  {
   "cell_type": "code",
   "execution_count": 222,
   "metadata": {},
   "outputs": [],
   "source": [
    "scrapeToDbMap = {'SID Number:': 'sid',\n",
    "'TDCJ Number:': 'tdcj',\n",
    "'Name:': 'name',\n",
    "'Race:': 'race',\n",
    "'Gender:': 'gender',\n",
    "'DOB:': 'dob',\n",
    "'Projected Release Date:': 'projected_release_date',\n",
    "'Parole Eligibility Date:': 'parole_elig_date',\n",
    "'Offender Visitation Eligible:': 'offender_visitation_elig'}"
   ]
  },
  {
   "cell_type": "markdown",
   "metadata": {},
   "source": [
    "<b>Function for scraping, parsing and recording data</b>"
   ]
  },
  {
   "cell_type": "code",
   "execution_count": 223,
   "metadata": {},
   "outputs": [],
   "source": [
    "def tdcjScraper(webPage, sid):\n",
    "    indexPlace = 0 # used for index reference\n",
    "    titleVar = \"\"  # holder for variable values as iteration takes place\n",
    "    valueList = [] # stores iterated variable values\n",
    "    variableList = ('SID Number:','TDCJ Number:','Name:','Race:','Gender:','DOB:','Maximum Sentence Date:'\n",
    "               'Current Facility:','Projected Release Date:','Parole Eligibility Date:',\n",
    "                'Offender Visitation Eligible:')\n",
    "    \n",
    "    #store the page you visited in MySQL\n",
    "    try:\n",
    "        with connection.cursor() as cursor:\n",
    "            # Create a new record\n",
    "            sql = \"INSERT INTO `tdcj_offenders` (sid) VALUES ('%s')\" % (sid)\n",
    "            cursor.execute(sql)\n",
    "            # print (sql)\n",
    "        # to save, commit your changes.\n",
    "        connection.commit()\n",
    "    except:\n",
    "        pass\n",
    "    page = url.urlopen(webPage) # open URL & store in page variable\n",
    "    # parse the html using beautiful soup and store in variable `soup`\n",
    "    soup = BeautifulSoup(page, 'html.parser')\n",
    "    inmateData = soup.find(id='content_right') # select area to grab data from\n",
    "    \n",
    "    for i in inmateData.stripped_strings:\n",
    "        valueList.append(i)\n",
    "        if titleVar in variableList:\n",
    "            if i in variableList:\n",
    "                break # if it's an empty record, move on\n",
    "            else:\n",
    "                try:\n",
    "                    with connection.cursor() as cursor:\n",
    "                        # Create a new record\n",
    "                        sql = \"\"\"UPDATE `tdcj_offenders` SET %s = '%s' WHERE `sid` = '%s'\"\"\" % (scrapeToDbMap[titleVar], \n",
    "                                                                                                 valueList[indexPlace], \n",
    "                                                                                                 sid)\n",
    "                        cursor.execute(sql)\n",
    "                        # commit to save your changes.\n",
    "                        # print (titleVar,valueList[indexPlace])\n",
    "                        connection.commit()\n",
    "                except:\n",
    "                    pass\n",
    "        titleVar = i\n",
    "        indexPlace += 1"
   ]
  },
  {
   "cell_type": "markdown",
   "metadata": {},
   "source": [
    "<b>Iterate through and SID range</b>"
   ]
  },
  {
   "cell_type": "code",
   "execution_count": null,
   "metadata": {
    "scrolled": true
   },
   "outputs": [],
   "source": [
    "for i in range(5138054, 5140000):\n",
    "    sid = format(i, '08')\n",
    "    tdcjPage = \"\"\"https://offender.tdcj.texas.gov/OffenderSearch/offenderDetail.action?sid=%s\"\"\" % (sid) \n",
    "    time.sleep(2)\n",
    "    # print (tdcjPage)\n",
    "    tdcjScraper(tdcjPage, sid)"
   ]
  },
  {
   "cell_type": "code",
   "execution_count": null,
   "metadata": {},
   "outputs": [],
   "source": [
    "connection.close()"
   ]
  },
  {
   "cell_type": "markdown",
   "metadata": {},
   "source": [
    "<b>SQL to create the table the code will be writing to<b/>"
   ]
  },
  {
   "cell_type": "markdown",
   "metadata": {},
   "source": [
    "```sql\n",
    "-- DDL Code for the table holding the results of the web scraping\n",
    "CREATE TABLE `tdcj_offenders` (\n",
    "  `sid` varchar(15) COLLATE utf8_unicode_ci DEFAULT NULL,\n",
    "  `tdcj` varchar(15) COLLATE utf8_unicode_ci DEFAULT NULL,\n",
    "  `name` varchar(255) COLLATE utf8_unicode_ci DEFAULT NULL,\n",
    "  `race` varchar(20) COLLATE utf8_unicode_ci DEFAULT NULL,\n",
    "  `gender` varchar(20) COLLATE utf8_unicode_ci DEFAULT NULL,\n",
    "  `dob` varchar(50) COLLATE utf8_unicode_ci DEFAULT NULL,\n",
    "  `projected_release_date` varchar(50) COLLATE utf8_unicode_ci DEFAULT NULL,\n",
    "  `parole_elig_date` varchar(50) COLLATE utf8_unicode_ci DEFAULT NULL,\n",
    "  `offender_visitation_elig` varchar(50) COLLATE utf8_unicode_ci DEFAULT NULL,\n",
    "  KEY `sid` (`sid`)\n",
    ") ENGINE=MyISAM DEFAULT CHARSET=utf8 COLLATE=utf8_unicode_ci COMMENT='holds information regarding offenders registered in tdcj site'\n",
    "```"
   ]
  },
  {
   "cell_type": "code",
   "execution_count": null,
   "metadata": {},
   "outputs": [],
   "source": []
  }
 ],
 "metadata": {
  "kernelspec": {
   "display_name": "Python 2",
   "language": "python",
   "name": "python2"
  },
  "language_info": {
   "codemirror_mode": {
    "name": "ipython",
    "version": 2
   },
   "file_extension": ".py",
   "mimetype": "text/x-python",
   "name": "python",
   "nbconvert_exporter": "python",
   "pygments_lexer": "ipython2",
   "version": "2.7.6"
  }
 },
 "nbformat": 4,
 "nbformat_minor": 2
}
